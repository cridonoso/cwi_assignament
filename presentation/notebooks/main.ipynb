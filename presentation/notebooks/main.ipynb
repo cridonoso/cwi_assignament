{
 "cells": [
  {
   "cell_type": "code",
   "execution_count": 1,
   "metadata": {},
   "outputs": [
    {
     "name": "stdout",
     "output_type": "stream",
     "text": [
      "/home/neon/Documents/cwi_assignament\n"
     ]
    }
   ],
   "source": [
    "cd ../.."
   ]
  },
  {
   "cell_type": "markdown",
   "metadata": {},
   "source": [
    "# Pipeline"
   ]
  },
  {
   "cell_type": "code",
   "execution_count": 7,
   "metadata": {},
   "outputs": [
    {
     "name": "stdout",
     "output_type": "stream",
     "text": [
      "The autoreload extension is already loaded. To reload it, use:\n",
      "  %reload_ext autoreload\n"
     ]
    }
   ],
   "source": [
    "import pandas as pd\n",
    "import numpy as np\n",
    "import chromadb\n",
    "\n",
    "from src.pipelines.naive import naive_pipeline\n",
    "from src.encode import encode_corpus_query\n",
    "from src.utils import format_table, get_accuracy, fix_duplicated_columns\n",
    "\n",
    "\n",
    "%load_ext autoreload\n",
    "%autoreload 2\n"
   ]
  },
  {
   "cell_type": "markdown",
   "metadata": {},
   "source": [
    "We first load the `corpus.parquet` and `queries.parquet` files, which contain the tables and desired queries to be answered"
   ]
  },
  {
   "cell_type": "code",
   "execution_count": 16,
   "metadata": {},
   "outputs": [
    {
     "data": {
      "text/plain": [
       "(1001, 4)"
      ]
     },
     "execution_count": 16,
     "metadata": {},
     "output_type": "execute_result"
    }
   ],
   "source": [
    "corpus = pd.read_parquet('./data/corpus.parquet')\n",
    "queries = pd.read_parquet('./data/queries.parquet')\n",
    "corpus.shape"
   ]
  },
  {
   "cell_type": "markdown",
   "metadata": {},
   "source": [
    "Since pandas dataframes that have been saved lose their data types, it is necessary to format each row to be a proper table."
   ]
  },
  {
   "cell_type": "code",
   "execution_count": 9,
   "metadata": {},
   "outputs": [
    {
     "data": {
      "text/html": [
       "<div>\n",
       "<style scoped>\n",
       "    .dataframe tbody tr th:only-of-type {\n",
       "        vertical-align: middle;\n",
       "    }\n",
       "\n",
       "    .dataframe tbody tr th {\n",
       "        vertical-align: top;\n",
       "    }\n",
       "\n",
       "    .dataframe thead th {\n",
       "        text-align: right;\n",
       "    }\n",
       "</style>\n",
       "<table border=\"1\" class=\"dataframe\">\n",
       "  <thead>\n",
       "    <tr style=\"text-align: right;\">\n",
       "      <th></th>\n",
       "      <th>Year</th>\n",
       "      <th>Award</th>\n",
       "      <th>Nominee</th>\n",
       "      <th>Category</th>\n",
       "      <th>Result</th>\n",
       "    </tr>\n",
       "  </thead>\n",
       "  <tbody>\n",
       "    <tr>\n",
       "      <th>0</th>\n",
       "      <td>2013</td>\n",
       "      <td>DJ Magazine Awards</td>\n",
       "      <td>Dyro</td>\n",
       "      <td>Top 100 DJs</td>\n",
       "      <td>30</td>\n",
       "    </tr>\n",
       "    <tr>\n",
       "      <th>1</th>\n",
       "      <td>2014</td>\n",
       "      <td>DJ Magazine Awards</td>\n",
       "      <td>Dyro</td>\n",
       "      <td>Top 100 DJs</td>\n",
       "      <td>27</td>\n",
       "    </tr>\n",
       "    <tr>\n",
       "      <th>2</th>\n",
       "      <td>2015</td>\n",
       "      <td>DJ Magazine Awards</td>\n",
       "      <td>Dyro</td>\n",
       "      <td>Top 100 DJs</td>\n",
       "      <td>27</td>\n",
       "    </tr>\n",
       "    <tr>\n",
       "      <th>3</th>\n",
       "      <td>2016</td>\n",
       "      <td>DJ Magazine Awards</td>\n",
       "      <td>Dyro</td>\n",
       "      <td>Top 100 DJs</td>\n",
       "      <td>93</td>\n",
       "    </tr>\n",
       "  </tbody>\n",
       "</table>\n",
       "</div>"
      ],
      "text/plain": [
       "   Year               Award Nominee     Category Result\n",
       "0  2013  DJ Magazine Awards    Dyro  Top 100 DJs     30\n",
       "1  2014  DJ Magazine Awards    Dyro  Top 100 DJs     27\n",
       "2  2015  DJ Magazine Awards    Dyro  Top 100 DJs     27\n",
       "3  2016  DJ Magazine Awards    Dyro  Top 100 DJs     93"
      ]
     },
     "execution_count": 9,
     "metadata": {},
     "output_type": "execute_result"
    }
   ],
   "source": [
    "corpus['table'] = corpus['table'].apply(lambda x: format_table(x)) \n",
    "corpus.iloc[2]['table']"
   ]
  },
  {
   "cell_type": "markdown",
   "metadata": {},
   "source": [
    "Here is an example of a Query/Answer tuple from our data:"
   ]
  },
  {
   "cell_type": "code",
   "execution_count": 11,
   "metadata": {},
   "outputs": [
    {
     "name": "stdout",
     "output_type": "stream",
     "text": [
      "Q:In what shows has Vanessa Marcil played a main role?\n",
      "A:Vanessa Marcil appeared in roles as Brenda Barrett on General Hospital, Gina Kincaid on Beverly Hills, 90210, and Sam Marquez in Las Vegas.\n"
     ]
    }
   ],
   "source": [
    "idx = queries.sample()['database_id'].values[0]\n",
    "print('Q:{}\\nA:{}'.format(queries[queries['database_id'] == idx]['query'].values[0],\n",
    "queries[queries['database_id'] == idx]['answer'].values[0]))"
   ]
  },
  {
   "cell_type": "markdown",
   "metadata": {},
   "source": [
    "## RAG PIPELINES\n"
   ]
  },
  {
   "cell_type": "markdown",
   "metadata": {},
   "source": [
    "In the following sections we are going to use our custom pipelines, but first of all we need to check for errors in table:"
   ]
  },
  {
   "cell_type": "code",
   "execution_count": 6,
   "metadata": {},
   "outputs": [],
   "source": [
    "corpus['table'] = corpus['table'].apply(lambda x: fix_duplicated_columns(x))"
   ]
  },
  {
   "cell_type": "code",
   "execution_count": 14,
   "metadata": {},
   "outputs": [
    {
     "name": "stdout",
     "output_type": "stream",
     "text": [
      "    Year                         Award  \\\n",
      "0   2013              Drama Desk Award   \n",
      "1   2013  Broadway.com Audience Awards   \n",
      "2   2014                    Tony Award   \n",
      "3   2014              Drama Desk Award   \n",
      "4   2014            Drama League Award   \n",
      "5   2014    Outer Critics Circle Award   \n",
      "6   2014                 Astaire Award   \n",
      "7   2015                    Tony Award   \n",
      "8   2015              Drama Desk Award   \n",
      "9   2015            Drama League Award   \n",
      "10  2015    Outer Critics Circle Award   \n",
      "11  2016        Evening Standard Award   \n",
      "12  2017        Laurence Olivier Award   \n",
      "13  2017         The Stage Debut Award   \n",
      "14  2017                    Tony Award   \n",
      "15  2017              Drama Desk Award   \n",
      "16  2017            Drama League Award   \n",
      "17  2017    Outer Critics Circle Award   \n",
      "\n",
      "                                       Category                        Work  \\\n",
      "0       Outstanding Featured Actor in a Musical  The Mystery of Edwin Drood   \n",
      "1   Favorite Onstage Pair (with Jessie Mueller)  The Mystery of Edwin Drood   \n",
      "2                       Best Actor in a Musical                       Rocky   \n",
      "3                Outstanding Actor in a Musical                       Rocky   \n",
      "4                     Distinguished Performance                       Rocky   \n",
      "5                Outstanding Actor in a Musical                       Rocky   \n",
      "6    Outstanding Male Dancer in a Broadway Show                       Rocky   \n",
      "7              Best Featured Actor in a Musical    On the Twentieth Century   \n",
      "8       Outstanding Featured Actor in a Musical    On the Twentieth Century   \n",
      "9                     Distinguished Performance    On the Twentieth Century   \n",
      "10      Outstanding Featured Actor in a Musical    On the Twentieth Century   \n",
      "11                     Best Musical Performance               Groundhog Day   \n",
      "12                      Best Actor in a Musical               Groundhog Day   \n",
      "13                          Best West End Debut               Groundhog Day   \n",
      "14                      Best Actor in a Musical               Groundhog Day   \n",
      "15               Outstanding Actor in a Musical               Groundhog Day   \n",
      "16                    Distinguished Performance               Groundhog Day   \n",
      "17               Outstanding Actor in a Musical               Groundhog Day   \n",
      "\n",
      "       Result  \n",
      "0   Nominated  \n",
      "1   Nominated  \n",
      "2   Nominated  \n",
      "3   Nominated  \n",
      "4   Nominated  \n",
      "5   Nominated  \n",
      "6   Nominated  \n",
      "7   Nominated  \n",
      "8   Nominated  \n",
      "9   Nominated  \n",
      "10        Won  \n",
      "11  Nominated  \n",
      "12        Won  \n",
      "13  Nominated  \n",
      "14  Nominated  \n",
      "15        Won  \n",
      "16  Nominated  \n",
      "17        Won  \n"
     ]
    }
   ],
   "source": [
    "for i, row in corpus.iterrows():\n",
    "    print(row['table'])\n",
    "    break"
   ]
  },
  {
   "cell_type": "markdown",
   "metadata": {},
   "source": [
    "### 1.1 Getting embeddings"
   ]
  },
  {
   "cell_type": "markdown",
   "metadata": {},
   "source": [
    "For getting embeddings we transform tables to HTML strings. We chose HTML since LLM are often trained on web content, so it is likely that they are more familiar with this format.\n",
    "\n",
    "Context information from `corpus` database is also important. We encode `corpus['table']` and `corpus['context']` separately, then we average both representation to create the final embedding"
   ]
  },
  {
   "cell_type": "code",
   "execution_count": 7,
   "metadata": {},
   "outputs": [],
   "source": [
    "embeddings, queries_embeddings = encode_corpus_query(corpus, queries) "
   ]
  },
  {
   "cell_type": "markdown",
   "metadata": {},
   "source": [
    "### Naive Solution"
   ]
  },
  {
   "cell_type": "code",
   "execution_count": 257,
   "metadata": {},
   "outputs": [],
   "source": [
    "naive_top_five = naive_pipeline(embeddings, queries_embeddings, dbids=corpus['database_id'].to_numpy())"
   ]
  },
  {
   "cell_type": "code",
   "execution_count": 258,
   "metadata": {},
   "outputs": [
    {
     "data": {
      "text/plain": [
       "'Naive solution Accuracy: 0.75'"
      ]
     },
     "execution_count": 258,
     "metadata": {},
     "output_type": "execute_result"
    }
   ],
   "source": [
    "'Naive solution Accuracy: {}'.format(np.mean(get_accuracy(queries, naive_top_five)))"
   ]
  },
  {
   "cell_type": "markdown",
   "metadata": {},
   "source": [
    "## Indexation"
   ]
  },
  {
   "cell_type": "markdown",
   "metadata": {},
   "source": [
    "### Chroma"
   ]
  },
  {
   "cell_type": "code",
   "execution_count": 259,
   "metadata": {},
   "outputs": [],
   "source": [
    "chroma_client = chromadb.Client()\n",
    "try:\n",
    "    collection = chroma_client.create_collection(name=\"vec_db\", metadata={\"hnsw:space\": \"cosine\"} )\n",
    "except:\n",
    "    chroma_client.delete_collection(\"vec_db\")\n",
    "    collection = chroma_client.create_collection(name=\"vec_db\", metadata={\"hnsw:space\": \"cosine\"} )\n",
    "\n",
    "collection.add(\n",
    "    embeddings=embeddings,\n",
    "    ids=corpus['database_id'].astype(str).to_list())"
   ]
  },
  {
   "cell_type": "code",
   "execution_count": 260,
   "metadata": {},
   "outputs": [],
   "source": [
    "results = collection.query(query_embeddings=queries_embeddings, n_results=5)"
   ]
  },
  {
   "cell_type": "code",
   "execution_count": 262,
   "metadata": {},
   "outputs": [
    {
     "data": {
      "text/plain": [
       "'Chroma solution Accuracy: 0.62'"
      ]
     },
     "execution_count": 262,
     "metadata": {},
     "output_type": "execute_result"
    }
   ],
   "source": [
    "accval = np.mean(get_accuracy(queries, np.array(results['ids'], dtype='int')))\n",
    "'Chroma solution Accuracy: {:.2f}'.format(accval)"
   ]
  },
  {
   "cell_type": "code",
   "execution_count": null,
   "metadata": {},
   "outputs": [],
   "source": []
  }
 ],
 "metadata": {
  "kernelspec": {
   "display_name": "cwi",
   "language": "python",
   "name": "python3"
  },
  "language_info": {
   "codemirror_mode": {
    "name": "ipython",
    "version": 3
   },
   "file_extension": ".py",
   "mimetype": "text/x-python",
   "name": "python",
   "nbconvert_exporter": "python",
   "pygments_lexer": "ipython3",
   "version": "3.9.18"
  }
 },
 "nbformat": 4,
 "nbformat_minor": 2
}
