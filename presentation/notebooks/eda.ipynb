{
 "cells": [
  {
   "cell_type": "code",
   "execution_count": 1,
   "metadata": {},
   "outputs": [
    {
     "name": "stdout",
     "output_type": "stream",
     "text": [
      "/home/neon/Documents/cwi_assignament\n"
     ]
    }
   ],
   "source": [
    "cd ../.."
   ]
  },
  {
   "cell_type": "code",
   "execution_count": 2,
   "metadata": {},
   "outputs": [
    {
     "name": "stderr",
     "output_type": "stream",
     "text": [
      "/home/neon/miniconda3/envs/cwi/lib/python3.9/site-packages/tqdm/auto.py:21: TqdmWarning: IProgress not found. Please update jupyter and ipywidgets. See https://ipywidgets.readthedocs.io/en/stable/user_install.html\n",
      "  from .autonotebook import tqdm as notebook_tqdm\n",
      "2024-11-24 23:42:58.805334: I tensorflow/core/util/port.cc:153] oneDNN custom operations are on. You may see slightly different numerical results due to floating-point round-off errors from different computation orders. To turn them off, set the environment variable `TF_ENABLE_ONEDNN_OPTS=0`.\n",
      "2024-11-24 23:42:58.818312: E external/local_xla/xla/stream_executor/cuda/cuda_fft.cc:477] Unable to register cuFFT factory: Attempting to register factory for plugin cuFFT when one has already been registered\n",
      "WARNING: All log messages before absl::InitializeLog() is called are written to STDERR\n",
      "E0000 00:00:1732502578.834406   18809 cuda_dnn.cc:8310] Unable to register cuDNN factory: Attempting to register factory for plugin cuDNN when one has already been registered\n",
      "E0000 00:00:1732502578.839876   18809 cuda_blas.cc:1418] Unable to register cuBLAS factory: Attempting to register factory for plugin cuBLAS when one has already been registered\n",
      "2024-11-24 23:42:58.857198: I tensorflow/core/platform/cpu_feature_guard.cc:210] This TensorFlow binary is optimized to use available CPU instructions in performance-critical operations.\n",
      "To enable the following instructions: AVX2 AVX512F AVX512_VNNI FMA, in other operations, rebuild TensorFlow with the appropriate compiler flags.\n"
     ]
    }
   ],
   "source": [
    "from ast import literal_eval\n",
    "from sklearn.metrics.pairwise import cosine_similarity\n",
    "from sentence_transformers import SentenceTransformer\n",
    "\n",
    "import pandas as pd\n",
    "import numpy as np\n"
   ]
  },
  {
   "cell_type": "code",
   "execution_count": 3,
   "metadata": {},
   "outputs": [],
   "source": [
    "corpus = pd.read_parquet('./data/corpus.parquet')\n",
    "queries = pd.read_parquet('./data/queries.parquet')"
   ]
  },
  {
   "cell_type": "code",
   "execution_count": 4,
   "metadata": {},
   "outputs": [],
   "source": [
    "def format_table(row):\n",
    "    table = []\n",
    "    for x in row:\n",
    "        table.append(list(x))\n",
    "    t = pd.DataFrame(table[1:], columns=table[0])\n",
    "    return t\n",
    "\n",
    "corpus['table'] = corpus['table'].apply(lambda x: format_table(x)) "
   ]
  },
  {
   "cell_type": "code",
   "execution_count": 6,
   "metadata": {},
   "outputs": [
    {
     "data": {
      "text/plain": [
       "{'table_page_title': 'The Piano Lesson',\n",
       " 'table_section_title': '2013 Off-Broadway production'}"
      ]
     },
     "execution_count": 6,
     "metadata": {},
     "output_type": "execute_result"
    }
   ],
   "source": [
    "corpus['context'].iloc[5]"
   ]
  },
  {
   "cell_type": "code",
   "execution_count": 7,
   "metadata": {},
   "outputs": [
    {
     "name": "stdout",
     "output_type": "stream",
     "text": [
      "Q:Who won the 2012 Venezuelan presidential election and what percent of the votes did the Great Patriotic Pole and the Democratic Unity Roundtable get respectively.  \n",
      "A:Chávez was elected as President of Venezuela with 55.07% of the popular vote, ahead of the 44.31% of Capriles.\n"
     ]
    }
   ],
   "source": [
    "idx = queries.sample()['database_id'].values[0]\n",
    "\n",
    "print('Q:{}\\nA:{}'.format(queries[queries['database_id'] == idx]['query'].values[0],\n",
    "queries[queries['database_id'] == idx]['answer'].values[0]))\n"
   ]
  },
  {
   "cell_type": "code",
   "execution_count": null,
   "metadata": {},
   "outputs": [],
   "source": []
  },
  {
   "cell_type": "code",
   "execution_count": 8,
   "metadata": {},
   "outputs": [],
   "source": [
    "model = SentenceTransformer('sentence-transformers/all-MiniLM-L6-v2')"
   ]
  },
  {
   "cell_type": "code",
   "execution_count": 9,
   "metadata": {},
   "outputs": [],
   "source": [
    "corpus_sequences  = [x.to_html() for x in corpus['table']]\n",
    "queries_sequences = [x for x in queries['query']]\n",
    "context_sequences = [str(x) for x in corpus['context']]"
   ]
  },
  {
   "cell_type": "code",
   "execution_count": 16,
   "metadata": {},
   "outputs": [],
   "source": [
    "corpus_embeddings = model.encode(corpus_sequences)"
   ]
  },
  {
   "cell_type": "code",
   "execution_count": 11,
   "metadata": {},
   "outputs": [],
   "source": [
    "queries_embeddings = model.encode(queries_sequences)"
   ]
  },
  {
   "cell_type": "code",
   "execution_count": 12,
   "metadata": {},
   "outputs": [],
   "source": [
    "context_embeddings = model.encode(context_sequences)"
   ]
  },
  {
   "cell_type": "code",
   "execution_count": 17,
   "metadata": {},
   "outputs": [],
   "source": [
    "embeddings = (corpus_embeddings+context_embeddings)/2"
   ]
  },
  {
   "cell_type": "code",
   "execution_count": 19,
   "metadata": {},
   "outputs": [],
   "source": [
    "cosim = cos_similarity = cosine_similarity(queries_embeddings, embeddings)"
   ]
  },
  {
   "cell_type": "code",
   "execution_count": 38,
   "metadata": {},
   "outputs": [
    {
     "name": "stdout",
     "output_type": "stream",
     "text": [
      "Query: In what films did Pooja Ramachandran play Cathy?\n",
      "Answer: Pooja Ramachandran starred as Cathy in Kadhalil Sodhappuvadhu Yeppadi and its Telugu version Love Failure.\n"
     ]
    },
    {
     "data": {
      "text/html": [
       "<div>\n",
       "<style scoped>\n",
       "    .dataframe tbody tr th:only-of-type {\n",
       "        vertical-align: middle;\n",
       "    }\n",
       "\n",
       "    .dataframe tbody tr th {\n",
       "        vertical-align: top;\n",
       "    }\n",
       "\n",
       "    .dataframe thead th {\n",
       "        text-align: right;\n",
       "    }\n",
       "</style>\n",
       "<table border=\"1\" class=\"dataframe\">\n",
       "  <thead>\n",
       "    <tr style=\"text-align: right;\">\n",
       "      <th></th>\n",
       "      <th>Year</th>\n",
       "      <th>Film</th>\n",
       "      <th>Role</th>\n",
       "      <th>Language</th>\n",
       "      <th>Notes</th>\n",
       "    </tr>\n",
       "  </thead>\n",
       "  <tbody>\n",
       "    <tr>\n",
       "      <th>0</th>\n",
       "      <td>2002</td>\n",
       "      <td>Yathrakarude Sradhakku</td>\n",
       "      <td>-</td>\n",
       "      <td>Malayalam</td>\n",
       "      <td>-</td>\n",
       "    </tr>\n",
       "    <tr>\n",
       "      <th>1</th>\n",
       "      <td>2012</td>\n",
       "      <td>Kadhalil Sodhappuvadhu Yeppadi</td>\n",
       "      <td>Cathy</td>\n",
       "      <td>Tamil</td>\n",
       "      <td>-</td>\n",
       "    </tr>\n",
       "    <tr>\n",
       "      <th>2</th>\n",
       "      <td>2012</td>\n",
       "      <td>Love Failure</td>\n",
       "      <td>Cathy</td>\n",
       "      <td>Telugu</td>\n",
       "      <td>-</td>\n",
       "    </tr>\n",
       "    <tr>\n",
       "      <th>3</th>\n",
       "      <td>2012</td>\n",
       "      <td>Nanban</td>\n",
       "      <td>Jeeva's Wife</td>\n",
       "      <td>Tamil</td>\n",
       "      <td>-</td>\n",
       "    </tr>\n",
       "    <tr>\n",
       "      <th>4</th>\n",
       "      <td>2012</td>\n",
       "      <td>Pizza</td>\n",
       "      <td>Smitha</td>\n",
       "      <td>Tamil</td>\n",
       "      <td>-</td>\n",
       "    </tr>\n",
       "    <tr>\n",
       "      <th>5</th>\n",
       "      <td>2013</td>\n",
       "      <td>Swamy Ra Ra</td>\n",
       "      <td>Bhanu</td>\n",
       "      <td>Telugu</td>\n",
       "      <td>-</td>\n",
       "    </tr>\n",
       "    <tr>\n",
       "      <th>6</th>\n",
       "      <td>2013</td>\n",
       "      <td>Lucky Star</td>\n",
       "      <td>Swapna</td>\n",
       "      <td>Malayalam</td>\n",
       "      <td>-</td>\n",
       "    </tr>\n",
       "    <tr>\n",
       "      <th>7</th>\n",
       "      <td>2013</td>\n",
       "      <td>D Company</td>\n",
       "      <td>Teena</td>\n",
       "      <td>Malayalam</td>\n",
       "      <td>-</td>\n",
       "    </tr>\n",
       "    <tr>\n",
       "      <th>8</th>\n",
       "      <td>2014</td>\n",
       "      <td>Adavi Kaachina Vennela</td>\n",
       "      <td>-</td>\n",
       "      <td>Telugu</td>\n",
       "      <td>-</td>\n",
       "    </tr>\n",
       "    <tr>\n",
       "      <th>9</th>\n",
       "      <td>2015</td>\n",
       "      <td>Nannbenda</td>\n",
       "      <td>-</td>\n",
       "      <td>Tamil</td>\n",
       "      <td>-</td>\n",
       "    </tr>\n",
       "    <tr>\n",
       "      <th>10</th>\n",
       "      <td>2015</td>\n",
       "      <td>Kanchana 2</td>\n",
       "      <td>Pooja</td>\n",
       "      <td>Tamil</td>\n",
       "      <td>-</td>\n",
       "    </tr>\n",
       "    <tr>\n",
       "      <th>11</th>\n",
       "      <td>2015</td>\n",
       "      <td>Dohchay</td>\n",
       "      <td>-</td>\n",
       "      <td>Telugu</td>\n",
       "      <td>-</td>\n",
       "    </tr>\n",
       "    <tr>\n",
       "      <th>12</th>\n",
       "      <td>2015</td>\n",
       "      <td>Tripura (film)</td>\n",
       "      <td>-</td>\n",
       "      <td>Telugu</td>\n",
       "      <td>-</td>\n",
       "    </tr>\n",
       "    <tr>\n",
       "      <th>13</th>\n",
       "      <td>2015</td>\n",
       "      <td>Puriyadha Anandam Puthithaga Arambam</td>\n",
       "      <td>-</td>\n",
       "      <td>Tamil</td>\n",
       "      <td>-</td>\n",
       "    </tr>\n",
       "    <tr>\n",
       "      <th>14</th>\n",
       "      <td>2015</td>\n",
       "      <td>Ore Nyabagam</td>\n",
       "      <td>-</td>\n",
       "      <td>Tamil</td>\n",
       "      <td>-</td>\n",
       "    </tr>\n",
       "    <tr>\n",
       "      <th>15</th>\n",
       "      <td>2015</td>\n",
       "      <td>Saamiyattam</td>\n",
       "      <td>-</td>\n",
       "      <td>Tamil</td>\n",
       "      <td>-</td>\n",
       "    </tr>\n",
       "    <tr>\n",
       "      <th>16</th>\n",
       "      <td>2015</td>\n",
       "      <td>Andhaghaaram</td>\n",
       "      <td>-</td>\n",
       "      <td>Tamil</td>\n",
       "      <td>-</td>\n",
       "    </tr>\n",
       "    <tr>\n",
       "      <th>17</th>\n",
       "      <td>2016</td>\n",
       "      <td>Dalam</td>\n",
       "      <td>-</td>\n",
       "      <td>Telugu</td>\n",
       "      <td>-</td>\n",
       "    </tr>\n",
       "    <tr>\n",
       "      <th>18</th>\n",
       "      <td>2016</td>\n",
       "      <td>Siddharta</td>\n",
       "      <td>-</td>\n",
       "      <td>Telugu</td>\n",
       "      <td>-</td>\n",
       "    </tr>\n",
       "    <tr>\n",
       "      <th>19</th>\n",
       "      <td>2016</td>\n",
       "      <td>Black Coffee</td>\n",
       "      <td>-</td>\n",
       "      <td>Tamil</td>\n",
       "      <td>-</td>\n",
       "    </tr>\n",
       "    <tr>\n",
       "      <th>20</th>\n",
       "      <td>2016</td>\n",
       "      <td>Marala Telupana Priya</td>\n",
       "      <td>-</td>\n",
       "      <td>Telugu</td>\n",
       "      <td>-</td>\n",
       "    </tr>\n",
       "    <tr>\n",
       "      <th>21</th>\n",
       "      <td>2016</td>\n",
       "      <td>Kalam</td>\n",
       "      <td>-</td>\n",
       "      <td>Tamil</td>\n",
       "      <td>-</td>\n",
       "    </tr>\n",
       "    <tr>\n",
       "      <th>22</th>\n",
       "      <td>2017</td>\n",
       "      <td>Inthalo Ennenni Vinthalo</td>\n",
       "      <td>Thara</td>\n",
       "      <td>Telugu</td>\n",
       "      <td>-</td>\n",
       "    </tr>\n",
       "    <tr>\n",
       "      <th>23</th>\n",
       "      <td>2017</td>\n",
       "      <td>Devi Sri Prasad</td>\n",
       "      <td>-</td>\n",
       "      <td>Telugu</td>\n",
       "      <td>-</td>\n",
       "    </tr>\n",
       "    <tr>\n",
       "      <th>24</th>\n",
       "      <td>2018</td>\n",
       "      <td>Krishnarjuna Yudham</td>\n",
       "      <td>Nikki</td>\n",
       "      <td>Telugu</td>\n",
       "      <td>-</td>\n",
       "    </tr>\n",
       "  </tbody>\n",
       "</table>\n",
       "</div>"
      ],
      "text/plain": [
       "    Year                                  Film          Role   Language Notes\n",
       "0   2002                Yathrakarude Sradhakku             -  Malayalam     -\n",
       "1   2012        Kadhalil Sodhappuvadhu Yeppadi         Cathy      Tamil     -\n",
       "2   2012                          Love Failure         Cathy     Telugu     -\n",
       "3   2012                                Nanban  Jeeva's Wife      Tamil     -\n",
       "4   2012                                 Pizza        Smitha      Tamil     -\n",
       "5   2013                           Swamy Ra Ra         Bhanu     Telugu     -\n",
       "6   2013                            Lucky Star        Swapna  Malayalam     -\n",
       "7   2013                             D Company         Teena  Malayalam     -\n",
       "8   2014                Adavi Kaachina Vennela             -     Telugu     -\n",
       "9   2015                             Nannbenda             -      Tamil     -\n",
       "10  2015                            Kanchana 2         Pooja      Tamil     -\n",
       "11  2015                               Dohchay             -     Telugu     -\n",
       "12  2015                        Tripura (film)             -     Telugu     -\n",
       "13  2015  Puriyadha Anandam Puthithaga Arambam             -      Tamil     -\n",
       "14  2015                          Ore Nyabagam             -      Tamil     -\n",
       "15  2015                           Saamiyattam             -      Tamil     -\n",
       "16  2015                          Andhaghaaram             -      Tamil     -\n",
       "17  2016                                 Dalam             -     Telugu     -\n",
       "18  2016                             Siddharta             -     Telugu     -\n",
       "19  2016                          Black Coffee             -      Tamil     -\n",
       "20  2016                 Marala Telupana Priya             -     Telugu     -\n",
       "21  2016                                 Kalam             -      Tamil     -\n",
       "22  2017              Inthalo Ennenni Vinthalo         Thara     Telugu     -\n",
       "23  2017                       Devi Sri Prasad             -     Telugu     -\n",
       "24  2018                   Krishnarjuna Yudham         Nikki     Telugu     -"
      ]
     },
     "execution_count": 38,
     "metadata": {},
     "output_type": "execute_result"
    }
   ],
   "source": [
    "i = 1\n",
    "query_text = queries_sequences[i]\n",
    "sorted_indices = np.argsort(cosim[i])\n",
    "sorted_tables  = corpus['table'].to_numpy()[sorted_indices]\n",
    "sorted_context = corpus['context'].to_numpy()[sorted_indices]\n",
    "answer_text    = queries['answer'][i]\n",
    "\n",
    "print('Query: {}'.format(query_text))\n",
    "print('Answer: {}'.format(answer_text))\n",
    "sorted_tables[-2]"
   ]
  },
  {
   "cell_type": "code",
   "execution_count": 37,
   "metadata": {},
   "outputs": [
    {
     "data": {
      "text/plain": [
       "{'table_page_title': 'Pooja Ramachandran',\n",
       " 'table_section_title': 'Filmography'}"
      ]
     },
     "execution_count": 37,
     "metadata": {},
     "output_type": "execute_result"
    }
   ],
   "source": [
    "sorted_context[-2]"
   ]
  },
  {
   "cell_type": "code",
   "execution_count": null,
   "metadata": {},
   "outputs": [],
   "source": []
  }
 ],
 "metadata": {
  "kernelspec": {
   "display_name": "cwi",
   "language": "python",
   "name": "python3"
  },
  "language_info": {
   "codemirror_mode": {
    "name": "ipython",
    "version": 3
   },
   "file_extension": ".py",
   "mimetype": "text/x-python",
   "name": "python",
   "nbconvert_exporter": "python",
   "pygments_lexer": "ipython3",
   "version": "3.9.20"
  }
 },
 "nbformat": 4,
 "nbformat_minor": 2
}
